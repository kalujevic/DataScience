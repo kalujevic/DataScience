{
 "cells": [
  {
   "attachments": {},
   "cell_type": "markdown",
   "id": "2b6805dd",
   "metadata": {},
   "source": [
    "## White paper_KAlujevic\n",
    "\n",
    "\n",
    "## 3D printed OTMs as a new standard in thermal ecology\n",
    "\n",
    "\n",
    "### Background\n",
    "\n",
    "\n",
    "In the field of thermal ecology, operative temperature models (OTMs) are used to characterize the environment experienced by a non-regulating organism (i.e. perfect thermoconformer) by integrating the net impact of radiative and convective processes on organismal heat balance. Hollow physical models containing iButtons (temperature loggers), distributed at given locality, that mimic the size, shape and colour of the species of interest, are used to assess the null distribution of predicted body temperature of a non-thermoregulating organism which is then used to calculate various indices such as thermal quality, thermoregulatory accuracy, effectiveness of thermoregulation, etc.\n",
    "\n",
    "Conventionally, OTMs used in ecological studies are often extremely simplified verisons of the organism of interest (e.g. a cooper pipe representing a lizard or a soda can representing a tortoise), or extremely expensive and time-intensive to produce, and these models often yield results that deviate substantially from the heating and cooling rates as well as equilibrium temperatures of live animals. Additionally, a lack of consistency in modelling techniques across thermal ecology makes comparing studies a challenge. Thus, improving the accuracy, cost-effectiveness and reproducibility of OTMs is imperative for climate related ecological research. 3D printing offers the prospect of easily replicated, morphologically accurate operative models, which may be better at approximating the thermal properties of animals than traditional models.\n",
    "\n",
    "This project aims to test if 3D printed OTMs can be an acceptable standard for quantifying operative temperatures in lizards. We aim to accomplish this by generating 3D printed OTMs using several different materials (ABS, PLA and copper infused PLA) for various species ranging in body size and habitat type. This project is a collaboration between five labs across the US, where, after Logan lab at UNR produces 3D printed OTMs, models of different species are sent to other collaborators to conduct field validation of models vs live lizards in their respective study systems.\n",
    "\n",
    "\n",
    "### Data collection\n",
    "\n",
    "1.\tDevelop 3D models of various lizard species (of different body sizes and living in different habitats) using a 3D scanner. *Completed.\n",
    "\n",
    "\n",
    "2. 3D print OTMs for each of the lizard species using three different materials (ABS, PLA and copper infused PLA). *Completed.\n",
    "\n",
    "\n",
    "3.\tPaint the models to match the reflectance of the lizard species of interest (in order to ensure similar absorption and heating and cooling rates). *In process.\n",
    "\n",
    "\n",
    "4. Deploy 3D printed models in the population of lizard species of interest next to a live lizard (minimum 10 per species). Using a thermocouple and picologger, collect data on heating rates and equilibrium temperatures (simultaneously for a live lizard next to three OTMs of different materials), across different microsites (varying in substrate type and sun exposure; between each microsite lizard and models will be put in the cooler to lower their body/internal temperature). *Field validation will take place in April. \n",
    "\n",
    "\n",
    "5.\tAnalyze recorded temperature data to compare model efficacy in comparisson to live lizards (of different species) across variable conditions. *End of April.\n",
    "\n",
    "\n",
    "### Data processing and collaboration\n",
    "\n",
    "I will create a GitHub repository that will be shared with all of our collaborators. The idea is that each of the collaborators contributes their respective datasets to the repository that I will then analyze as a single dataset. Given that we will collect separate data for each lizard and each model (continuous data representing curves of heating rates and equilibrium temperatures), I will use Phyton to merge all of these datasets into a global spreadsheet. I will use Open Refine to inspect if the global spreadsheet has been compiled without errors and will perform data cleaning which will allow us to generate spreadsheets we need for data analyses. I will analyze data in R and use ggplot to visualize outputs.\n",
    "\n",
    "\n",
    "\n"
   ]
  },
  {
   "cell_type": "code",
   "execution_count": null,
   "id": "108de80c",
   "metadata": {},
   "outputs": [],
   "source": []
  }
 ],
 "metadata": {
  "kernelspec": {
   "display_name": "Python 3",
   "language": "python",
   "name": "python3"
  },
  "language_info": {
   "codemirror_mode": {
    "name": "ipython",
    "version": 3
   },
   "file_extension": ".py",
   "mimetype": "text/x-python",
   "name": "python",
   "nbconvert_exporter": "python",
   "pygments_lexer": "ipython3",
   "version": "3.8.8"
  }
 },
 "nbformat": 4,
 "nbformat_minor": 5
}
