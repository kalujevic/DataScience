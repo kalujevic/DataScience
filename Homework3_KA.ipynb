{
 "cells": [
  {
   "cell_type": "markdown",
   "metadata": {},
   "source": [
    "# Jypyter Notebooks and Python Refresh Homework 3\n",
    "We are going to do the Python Refresh Homework in a juypyter Notebook. In this homework we will review the basic principles of python programming. You will work through a few questions and build some scripts. You will need the Bloom et al Dataset found in this repository. For each question add a cell to put your answer in either as a text cell or a code cell following the question.\n",
    "\n",
    "### Markdown\n",
    "Here is a [markdown refresh](https://programminghistorian.org/en/lessons/getting-started-with-markdown)\n",
    "\n",
    "### General concepts to refresh and lessons to review if you need them:\n",
    "\n",
    "Here is a nice [Python_Refresh](https://pythonforbiologists.com/introduction) that goes over the majority of the basic python commands.\n",
    "\n",
    "Remember these Primers from Last Semester\n",
    "\n",
    "[Python_Primer1](https://github.com/tparchman/BIOL792_course_site/blob/master/week6_pythonI/python_1_primer.md) \n",
    "\n",
    "[Lists_for_loops](https://github.com/tparchman/BIOL792_course_site/blob/master/week7_pythonII/python_2_primer.md)\n",
    "\n",
    "[Input_Output](https://github.com/tparchman/BIOL792_course_site/blob/master/week8_python3/python_3_primer.md)\n",
    "\n",
    "[Dictionaries](https://github.com/tparchman/BIOL792_course_site/blob/master/week11_python6/primer_python6.md)\n",
    "\n",
    "\n",
    "### Remember these Common commands as you work through this exercise\n",
    "\tdata types\n",
    "\tlists and dictionaries \n",
    "\tif while and for loops\n",
    "\treading files\n",
    "\n"
   ]
  },
  {
   "cell_type": "markdown",
   "metadata": {},
   "source": [
    "## Part I: Questions"
   ]
  },
  {
   "cell_type": "markdown",
   "metadata": {},
   "source": [
    "1.\tName one of the basic building blocks of programming and a small definition."
   ]
  },
  {
   "cell_type": "markdown",
   "metadata": {},
   "source": []
  },
  {
   "cell_type": "code",
   "execution_count": null,
   "metadata": {},
   "outputs": [],
   "source": []
  },
  {
   "cell_type": "markdown",
   "metadata": {},
   "source": [
    "2.\tMatch the data type to the appropriate data\n",
    "    \n",
    "    **Data type:** string, integer, boolean, floating point\n",
    "    \n",
    "    **Data:** true, 123, 'I am a programmer', 34.63221\n"
   ]
  },
  {
   "cell_type": "markdown",
   "metadata": {},
   "source": [
    "string 'I am a programmer'\n",
    "\n",
    "integer 123\n",
    "\n",
    "booolean true\n",
    "\n",
    "floating point 34.63221"
   ]
  },
  {
   "cell_type": "markdown",
   "metadata": {},
   "source": [
    "3.\tWhat would I get if I did tried to add these to numbers together ```123``` and ```5```.\n",
    "\t\t\n",
    "\t\ta) if the numbers were formatted as strings\n",
    "\t\t\n",
    "\t\tb) if they were formatted as integers"
   ]
  },
  {
   "cell_type": "markdown",
   "metadata": {},
   "source": [
    "a) 1235\n",
    "\n",
    "b) 128"
   ]
  },
  {
   "cell_type": "markdown",
   "metadata": {},
   "source": [
    "4.\tLists, also called vectors, are one dimensional arrays and are a series of items. From the following list what would the question ```apple_list[3]``` return?  Remember we refer to items in a list by their position. Hint – remember how computers count.\n",
    "\t\t\n",
    "\t\t```apple_list=[‘banana’,’pear’,’kumquat’,’pomegranate’,’passion fruit’]```"
   ]
  },
  {
   "cell_type": "markdown",
   "metadata": {},
   "source": [
    "pomegranate"
   ]
  },
  {
   "cell_type": "markdown",
   "metadata": {},
   "source": [
    "5.\tName a difference between lists and dictionaries?"
   ]
  },
  {
   "cell_type": "markdown",
   "metadata": {},
   "source": [
    "Lists are ordered, and dictionaries are not. For dictionaries, every item has a value."
   ]
  },
  {
   "cell_type": "markdown",
   "metadata": {},
   "source": [
    "6.\tWhat would you get from this question from the following dictionary:  ```fruit_dict[‘pear’]```\n",
    "```\t\t\n",
    "\t\tfruit_dict = {}\n",
    "\t\tfruit_dict[‘apple’]=10\n",
    "\t\tfruit_dict[‘pear’] = 3\n",
    "\t\tfruit_dict[‘walnut’]=216\n",
    "```\n",
    "or in another way\n",
    "\n",
    "\n",
    "```\n",
    "fruit_dict = {\n",
    "    'apple':10,\n",
    "    'pear':3,\n",
    "    'walnut':216,\n",
    "}\n",
    "\n",
    "print(fruit_dict)\n",
    "```\n",
    "\n"
   ]
  },
  {
   "cell_type": "markdown",
   "metadata": {},
   "source": [
    "3"
   ]
  },
  {
   "cell_type": "markdown",
   "metadata": {},
   "source": [
    "7.\tIn python what does the function ```.replace()``` do?"
   ]
  },
  {
   "cell_type": "markdown",
   "metadata": {},
   "source": [
    "Replaces a specified section of the old string with a new substring."
   ]
  },
  {
   "cell_type": "markdown",
   "metadata": {},
   "source": [
    "8.\tHow do you print something in python?  For example write a print statement to print “hello world!”"
   ]
  },
  {
   "cell_type": "code",
   "execution_count": 1,
   "metadata": {},
   "outputs": [
    {
     "name": "stdout",
     "output_type": "stream",
     "text": [
      "hello world\n"
     ]
    }
   ],
   "source": [
    "print(\"hello world\")"
   ]
  },
  {
   "cell_type": "markdown",
   "metadata": {},
   "source": [
    "9.\tName one place you can go to get help with python?"
   ]
  },
  {
   "cell_type": "markdown",
   "metadata": {},
   "source": [
    "Stack Exchange"
   ]
  },
  {
   "cell_type": "markdown",
   "metadata": {},
   "source": [
    "10.\tWhat is an ```if``` statement and when would you use one?"
   ]
  },
  {
   "cell_type": "markdown",
   "metadata": {},
   "source": [
    "It allows us to run a code if a certain condition is met and to not run it if the condition is not met."
   ]
  },
  {
   "cell_type": "markdown",
   "metadata": {},
   "source": [
    "11.\tFrom this list:  ```container_list = [‘can’,’jar’,’hat’]``` What would be returned from this: ```container_list[0:2]```.  Hint: Remember one number is inclusive and one exclusive."
   ]
  },
  {
   "cell_type": "markdown",
   "metadata": {},
   "source": [
    "[‘can’, ’jar’]"
   ]
  },
  {
   "cell_type": "markdown",
   "metadata": {},
   "source": [
    "12.\tWhat is the difference between an ```if``` statement and a ```while``` loop?\n"
   ]
  },
  {
   "cell_type": "markdown",
   "metadata": {},
   "source": [
    "With if statement the code will go through each line of the dataset and check each line to see if the condition is met; if it is, it will run it; if it is not, it will not run it, and so on until the end of the dataset. With while, the code will run through the dataset until the argument does not meet the condition anymore and then it will stop."
   ]
  },
  {
   "cell_type": "markdown",
   "metadata": {},
   "source": [
    "13.\tWhat would you get with the command ```fruit_dict.keys()```  after entering this dictionary:  \n",
    "\t\tfruit_dict = {}\n",
    "\t\tfruit_dict[‘apple’]=10\n",
    "\t\tfruit_dict[‘pear’] = 3\n",
    "\t\tfruit_dict[‘walnut’]=216"
   ]
  },
  {
   "cell_type": "markdown",
   "metadata": {},
   "source": [
    "['apple', 'pear', 'walnut']"
   ]
  },
  {
   "cell_type": "markdown",
   "metadata": {},
   "source": [
    "14.\tIn this statement: ```InFileName = open(InFileName, ‘r’)``` what does the ‘r’ indicate ?"
   ]
  },
  {
   "cell_type": "markdown",
   "metadata": {},
   "source": [
    "Read"
   ]
  },
  {
   "cell_type": "markdown",
   "metadata": {},
   "source": [
    "15.\tWhat does this command do? ```Line.strip(‘\\n’)``` why would you use it when printing out lines to the screen?"
   ]
  },
  {
   "cell_type": "markdown",
   "metadata": {},
   "source": [
    "Removes line endings, you would use it to merge two lines."
   ]
  },
  {
   "cell_type": "markdown",
   "metadata": {},
   "source": [
    "16.\tHow would you split a line from a csv file into a list"
   ]
  },
  {
   "cell_type": "markdown",
   "metadata": {},
   "source": [
    "string.split()"
   ]
  },
  {
   "cell_type": "markdown",
   "metadata": {},
   "source": [
    "## Part II:  Practice Scripts\n",
    "Below each question write the name of the script so I can find them. All scripts should be documented with in-line documentation."
   ]
  },
  {
   "cell_type": "markdown",
   "metadata": {},
   "source": [
    "1.\tCreate a documented python script that would \n",
    "\n",
    "\t\t**a.** take this number 112345678911234566 and count the number of 2s in the string and print out the number. \n",
    "\n",
    "\t\t**b.** take a sentence from user input, turn it all to lowercase letters and remove the spaces and count the length and print out the length.  You choose the sentence. \n"
   ]
  },
  {
   "cell_type": "code",
   "execution_count": 1,
   "metadata": {},
   "outputs": [
    {
     "name": "stdout",
     "output_type": "stream",
     "text": [
      "2\n",
      "16\n"
     ]
    }
   ],
   "source": [
    "# a.\n",
    "num='112345678911234566' # assigning number to 'num'\n",
    "LEN=num.count('2') # count occurences\n",
    "print(LEN)\n",
    "\n",
    "# b.\n",
    "phrase=(\"Today is a sunny day\")\n",
    "newphrase=phrase.lower() # make it lowercase\n",
    "newphrase=newphrase.replace(' ', '') # removes spaces\n",
    "print(len(newphrase)) # print out length"
   ]
  },
  {
   "cell_type": "markdown",
   "metadata": {},
   "source": [
    "2.\tCreate a documented python script that will do the following two things. For each task, first write the pseudocode, comment out the pseudocode and beneath the pseudocode write the script.\n",
    "\n",
    "\t\t**a.** Create a list of numbers (any numbers you like). Then loop through the items in the list adding 1 to every number and print those numbers.\n",
    "\n",
    "\t\t**b.** Create a dictionary of animals and their sizes (make up whatever you want). Print out the keys of the dictionary. Make a list of all the animals and then write an if else statement to print out the animal name and the word “big” if the weight is over 20 grams and the word “small” if the weight is less than 20 grams. "
   ]
  },
  {
   "cell_type": "code",
   "execution_count": 2,
   "metadata": {},
   "outputs": [
    {
     "name": "stdout",
     "output_type": "stream",
     "text": [
      "[0, 2, 4, 6, 8, 10, 12, 14, 16, 18, 20, 22, 24, 26, 28, 30, 32, 34, 36, 38, 40, 42, 44, 46, 48]\n",
      "[1, 3, 5, 7, 9, 11, 13, 15, 17, 19, 21, 23, 25, 27, 29, 31, 33, 35, 37, 39, 41, 43, 45, 47, 49]\n",
      "dict_keys(['dolphin', 'whale', 'shark', 'starfish', 'squid'])\n",
      "dolphin: big\n",
      "whale: big\n",
      "shark: big\n",
      "starfish: small\n",
      "squid: small\n"
     ]
    }
   ],
   "source": [
    "# a.\n",
    "\n",
    "numbers=list(range(0,49,2)) # create a list of numbers\n",
    "print(numbers)\n",
    "\n",
    "numbers2 = [x+1 for x in numbers] #loop through the items in the list adding 1 to every number\n",
    "print(numbers2)\n",
    "\n",
    "\n",
    "# b.\n",
    "\n",
    "\n",
    "animal_size_dict={  # create a dictionary of animals and their sizes\n",
    "    'dolphin':500,\n",
    "    'whale':45000,\n",
    "    'shark':700,\n",
    "    'starfish':3,\n",
    "    'squid':19\n",
    "}\n",
    "\n",
    "print(animal_size_dict.keys()) # print keys\n",
    "\n",
    "animal_list=list(animal_size_dict.keys()) # make list of animal names & print to see it worked\n",
    "\n",
    "# print out the animal name and the word “big” if the weight >20g and the word “small” if <20g.\n",
    "\n",
    "for x in animal_list:\n",
    "    if animal_size_dict[x]>20:\n",
    "        print(\"%s: big\" %x)\n",
    "    else: print(\"%s: small\" %x)\n",
    "\n"
   ]
  },
  {
   "cell_type": "markdown",
   "metadata": {},
   "source": [
    "3.\tCreate a documented python script that will open up the file “Bloom_etal_2018_Reduced_Dataset”.  Read through the file and print out the taxon name and their diadromous status. Add up all of the log body sizes and print out the total log body size for all the individuals in the file.  "
   ]
  },
  {
   "cell_type": "code",
   "execution_count": 5,
   "metadata": {},
   "outputs": [
    {
     "name": "stdout",
     "output_type": "stream",
     "text": [
      "                   taxa  logbodysize  trophic_position         Reg\n",
      "0        Alosa_alabamae     1.707570          0.431364  diadromous\n",
      "1           Alosa_alosa     1.778151          0.556303  diadromous\n",
      "2          Alosa_fallax     1.778151          0.556303  diadromous\n",
      "3       Alosa_mediocris     1.778151          0.612784  diadromous\n",
      "4  Alosa_pseudoharengus     1.602060          0.544068  diadromous\n",
      "Alosa_alabamae: diadromous\n",
      "Alosa_alosa: diadromous\n",
      "Alosa_fallax: diadromous\n",
      "Alosa_mediocris: diadromous\n",
      "Alosa_pseudoharengus: diadromous\n",
      "Alosa_sapidissima: diadromous\n",
      "Amazonsprattus_scintilla: non-diadromous\n",
      "Anchoa_chamensis: non-diadromous\n",
      "Anchoa_cubana: non-diadromous\n",
      "Anchoa_delicatissima: non-diadromous\n",
      "Anchoa_lamprotaenia: non-diadromous\n",
      "Anchoa_lyolepis: non-diadromous\n",
      "Anchoa_parva: non-diadromous\n",
      "Anchoa_schofieldi: non-diadromous\n",
      "Anchovia_surinamensis: non-diadromous\n",
      "Anchoviella_balboae: non-diadromous\n",
      "Anchoviella_brevirostris: non-diadromous\n",
      "Anchoviella_jamesi: non-diadromous\n",
      "Anchoviella_lepidentostole: diadromous\n",
      "Anchoviella_manamensis: non-diadromous\n",
      "Anodontostoma_chacunda: diadromous\n",
      "Cetengraulis_edentulus: non-diadromous\n",
      "Chirocentrodon_bleekerianus: non-diadromous\n",
      "Clupeichthys_perakensis: non-diadromous\n",
      "Clupeoides_borneensis: non-diadromous\n",
      "Coilia_nasus: diadromous\n",
      "Ehirava_fluviatilis: non-diadromous\n",
      "Encrasicholina_devisi: non-diadromous\n",
      "Engraulis_eurystole: non-diadromous\n",
      "Escualosa_thoracata: non-diadromous\n",
      "Ethmalosa_fimbriata: diadromous\n",
      "Gilchristella_aestuaria: non-diadromous\n",
      "Hilsa_kelee: diadromous\n",
      "Hyperlophus_vittatus: non-diadromous\n",
      "Jenkinsia_lamprotaenia: non-diadromous\n",
      "Microthrissa_congica: non-diadromous\n",
      "Pellona_harroweri: non-diadromous\n",
      "Pellonula_leonensis: diadromous\n",
      "Pellonula_vorax: diadromous\n",
      "Potamalosa_richmondia: diadromous\n",
      "Ramnogaster_sp: non-diadromous\n",
      "Rhinosardinia_bahiensis: non-diadromous\n",
      "Sauvagella_robusta: non-diadromous\n",
      "Sierrathrissa_leonensis: non-diadromous\n",
      "Spratelloides_delicatulus: non-diadromous\n",
      "Stolephorus_waitei: non-diadromous\n",
      "Stolothrissa_tanganicae: non-diadromous\n",
      "Sundasalanx_mekongensis: non-diadromous\n",
      "Tenualosa_ilisha: diadromous\n",
      "Thryssa_cf_dussumieri: non-diadromous\n",
      "sum of all log body sizes:\n",
      "52.07931875199999\n"
     ]
    }
   ],
   "source": [
    "# read in Bloom_etal file using pandas read_csv function\n",
    "from pandas import read_csv\n",
    "Bloom = read_csv('./Pandas/Bloom_etal_2018_Reduced_Dataset.csv')\n",
    "print(Bloom.head())\n",
    "\n",
    "\n",
    "# for each line in the file, print out the taxa name and diandromous status\n",
    "for x in Bloom.index:\n",
    "     print(Bloom[\"taxa\"][x]+ \": \"+ Bloom[\"Reg\"][x])\n",
    "\n",
    "\n",
    "# add up all log body sizes and print total sum\n",
    "print(\"sum of all log body sizes:\")\n",
    "print(Bloom.logbodysize.sum())"
   ]
  }
 ],
 "metadata": {
  "kernelspec": {
   "display_name": "Python 3",
   "language": "python",
   "name": "python3"
  },
  "language_info": {
   "codemirror_mode": {
    "name": "ipython",
    "version": 3
   },
   "file_extension": ".py",
   "mimetype": "text/x-python",
   "name": "python",
   "nbconvert_exporter": "python",
   "pygments_lexer": "ipython3",
   "version": "3.8.8"
  }
 },
 "nbformat": 4,
 "nbformat_minor": 4
}
